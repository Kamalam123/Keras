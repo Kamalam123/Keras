{
  "nbformat": 4,
  "nbformat_minor": 0,
  "metadata": {
    "colab": {
      "name": "CNN_MNIST.ipynb",
      "provenance": [],
      "collapsed_sections": []
    },
    "kernelspec": {
      "name": "python3",
      "display_name": "Python 3"
    }
  },
  "cells": [
    {
      "cell_type": "code",
      "metadata": {
        "id": "H9EU0e8yzFOm",
        "colab_type": "code",
        "outputId": "de2afe1e-2859-4c56-e87f-c25f618b876d",
        "colab": {
          "base_uri": "https://localhost:8080/",
          "height": 1000
        }
      },
      "source": [
        "# Credits: https://github.com/keras-team/keras/blob/master/examples/mnist_cnn.py\n",
        "\n",
        "\n",
        "from __future__ import print_function\n",
        "import keras\n",
        "from keras.datasets import mnist\n",
        "from keras.models import Sequential\n",
        "from keras.layers import Dense, Dropout, Flatten\n",
        "from keras.layers import Conv2D, MaxPooling2D\n",
        "from keras import backend as K\n",
        "import matplotlib\n",
        "\n",
        "\n",
        "batch_size = 128\n",
        "num_classes = 10\n",
        "epochs = 12\n",
        "\n",
        "# input image dimensions\n",
        "img_rows, img_cols = 28, 28\n",
        "\n",
        "# the data, split between train and test sets\n",
        "(x_train, y_train), (x_test, y_test) = mnist.load_data()\n",
        "\n",
        "if K.image_data_format() == 'channels_first':\n",
        "    x_train = x_train.reshape(x_train.shape[0], 1, img_rows, img_cols)\n",
        "    x_test = x_test.reshape(x_test.shape[0], 1, img_rows, img_cols)\n",
        "    input_shape = (1, img_rows, img_cols)\n",
        "else:\n",
        "    x_train = x_train.reshape(x_train.shape[0], img_rows, img_cols, 1)\n",
        "    x_test = x_test.reshape(x_test.shape[0], img_rows, img_cols, 1)\n",
        "    input_shape = (img_rows, img_cols, 1)\n",
        "\n",
        "x_train = x_train.astype('float32')\n",
        "x_test = x_test.astype('float32')\n",
        "x_train /= 255\n",
        "x_test /= 255\n",
        "print('x_train shape:', x_train.shape)\n",
        "print(x_train.shape[0], 'train samples')\n",
        "print(x_test.shape[0], 'test samples')\n",
        "\n",
        "# convert class vectors to binary class matrices\n",
        "y_train = keras.utils.to_categorical(y_train, num_classes)\n",
        "y_test = keras.utils.to_categorical(y_test, num_classes)\n",
        "\n",
        "model = Sequential()\n",
        "model.add(Conv2D(32, kernel_size=(3, 3),\n",
        "                 activation='relu',\n",
        "                 input_shape=input_shape))\n",
        "model.add(Conv2D(64, (3, 3), activation='relu'))\n",
        "model.add(MaxPooling2D(pool_size=(2, 2)))\n",
        "model.add(Dropout(0.25))\n",
        "model.add(Flatten())\n",
        "model.add(Dense(128, activation='relu'))\n",
        "model.add(Dropout(0.5))\n",
        "model.add(Dense(num_classes, activation='softmax'))\n",
        "\n",
        "model.compile(loss=keras.losses.categorical_crossentropy,\n",
        "              optimizer=keras.optimizers.Adadelta(),\n",
        "              metrics=['accuracy'])\n",
        "\n",
        "history = model.fit(x_train, y_train,\n",
        "          batch_size=batch_size,\n",
        "          epochs=epochs,\n",
        "          verbose=1,\n",
        "          validation_data=(x_test, y_test))\n",
        "score = model.evaluate(x_test, y_test, verbose=0)\n",
        "#histories.append(history)\n",
        "print('Test loss:', score[0])\n",
        "print('Test accuracy:', score[1])\n",
        "#print('Test loss:', score[0])\n",
        "#print('Test accuracy:', score[1])\n"
      ],
      "execution_count": 1,
      "outputs": [
        {
          "output_type": "stream",
          "text": [
            "Using TensorFlow backend.\n"
          ],
          "name": "stderr"
        },
        {
          "output_type": "stream",
          "text": [
            "Downloading data from https://s3.amazonaws.com/img-datasets/mnist.npz\n",
            "11493376/11490434 [==============================] - 1s 0us/step\n",
            "x_train shape: (60000, 28, 28, 1)\n",
            "60000 train samples\n",
            "10000 test samples\n",
            "WARNING:tensorflow:From /usr/local/lib/python3.6/dist-packages/keras/backend/tensorflow_backend.py:66: The name tf.get_default_graph is deprecated. Please use tf.compat.v1.get_default_graph instead.\n",
            "\n",
            "WARNING:tensorflow:From /usr/local/lib/python3.6/dist-packages/keras/backend/tensorflow_backend.py:541: The name tf.placeholder is deprecated. Please use tf.compat.v1.placeholder instead.\n",
            "\n",
            "WARNING:tensorflow:From /usr/local/lib/python3.6/dist-packages/keras/backend/tensorflow_backend.py:4432: The name tf.random_uniform is deprecated. Please use tf.random.uniform instead.\n",
            "\n",
            "WARNING:tensorflow:From /usr/local/lib/python3.6/dist-packages/keras/backend/tensorflow_backend.py:4267: The name tf.nn.max_pool is deprecated. Please use tf.nn.max_pool2d instead.\n",
            "\n",
            "WARNING:tensorflow:From /usr/local/lib/python3.6/dist-packages/keras/backend/tensorflow_backend.py:148: The name tf.placeholder_with_default is deprecated. Please use tf.compat.v1.placeholder_with_default instead.\n",
            "\n",
            "WARNING:tensorflow:From /usr/local/lib/python3.6/dist-packages/keras/backend/tensorflow_backend.py:3733: calling dropout (from tensorflow.python.ops.nn_ops) with keep_prob is deprecated and will be removed in a future version.\n",
            "Instructions for updating:\n",
            "Please use `rate` instead of `keep_prob`. Rate should be set to `rate = 1 - keep_prob`.\n",
            "WARNING:tensorflow:From /usr/local/lib/python3.6/dist-packages/keras/optimizers.py:793: The name tf.train.Optimizer is deprecated. Please use tf.compat.v1.train.Optimizer instead.\n",
            "\n",
            "WARNING:tensorflow:From /usr/local/lib/python3.6/dist-packages/keras/backend/tensorflow_backend.py:3576: The name tf.log is deprecated. Please use tf.math.log instead.\n",
            "\n",
            "WARNING:tensorflow:From /usr/local/lib/python3.6/dist-packages/tensorflow/python/ops/math_grad.py:1250: add_dispatch_support.<locals>.wrapper (from tensorflow.python.ops.array_ops) is deprecated and will be removed in a future version.\n",
            "Instructions for updating:\n",
            "Use tf.where in 2.0, which has the same broadcast rule as np.where\n",
            "Train on 60000 samples, validate on 10000 samples\n",
            "Epoch 1/12\n",
            "60000/60000 [==============================] - 155s 3ms/step - loss: 0.2697 - acc: 0.9168 - val_loss: 0.0568 - val_acc: 0.9810\n",
            "Epoch 2/12\n",
            "60000/60000 [==============================] - 154s 3ms/step - loss: 0.0886 - acc: 0.9737 - val_loss: 0.0399 - val_acc: 0.9860\n",
            "Epoch 3/12\n",
            "60000/60000 [==============================] - 154s 3ms/step - loss: 0.0658 - acc: 0.9799 - val_loss: 0.0334 - val_acc: 0.9896\n",
            "Epoch 4/12\n",
            "60000/60000 [==============================] - 151s 3ms/step - loss: 0.0526 - acc: 0.9844 - val_loss: 0.0290 - val_acc: 0.9906\n",
            "Epoch 5/12\n",
            "60000/60000 [==============================] - 151s 3ms/step - loss: 0.0467 - acc: 0.9866 - val_loss: 0.0329 - val_acc: 0.9893\n",
            "Epoch 6/12\n",
            "60000/60000 [==============================] - 152s 3ms/step - loss: 0.0407 - acc: 0.9873 - val_loss: 0.0261 - val_acc: 0.9914\n",
            "Epoch 7/12\n",
            "60000/60000 [==============================] - 151s 3ms/step - loss: 0.0367 - acc: 0.9890 - val_loss: 0.0267 - val_acc: 0.9911\n",
            "Epoch 8/12\n",
            "60000/60000 [==============================] - 152s 3ms/step - loss: 0.0334 - acc: 0.9899 - val_loss: 0.0253 - val_acc: 0.9919\n",
            "Epoch 9/12\n",
            "60000/60000 [==============================] - 152s 3ms/step - loss: 0.0313 - acc: 0.9903 - val_loss: 0.0256 - val_acc: 0.9913\n",
            "Epoch 10/12\n",
            "60000/60000 [==============================] - 155s 3ms/step - loss: 0.0270 - acc: 0.9918 - val_loss: 0.0272 - val_acc: 0.9909\n",
            "Epoch 11/12\n",
            "60000/60000 [==============================] - 154s 3ms/step - loss: 0.0281 - acc: 0.9915 - val_loss: 0.0257 - val_acc: 0.9913\n",
            "Epoch 12/12\n",
            "60000/60000 [==============================] - 154s 3ms/step - loss: 0.0247 - acc: 0.9921 - val_loss: 0.0258 - val_acc: 0.9926\n"
          ],
          "name": "stdout"
        },
        {
          "output_type": "error",
          "ename": "NameError",
          "evalue": "ignored",
          "traceback": [
            "\u001b[0;31m---------------------------------------------------------------------------\u001b[0m",
            "\u001b[0;31mNameError\u001b[0m                                 Traceback (most recent call last)",
            "\u001b[0;32m<ipython-input-1-ae70f27eee23>\u001b[0m in \u001b[0;36m<module>\u001b[0;34m()\u001b[0m\n\u001b[1;32m     64\u001b[0m           validation_data=(x_test, y_test))\n\u001b[1;32m     65\u001b[0m \u001b[0mscore\u001b[0m \u001b[0;34m=\u001b[0m \u001b[0mmodel\u001b[0m\u001b[0;34m.\u001b[0m\u001b[0mevaluate\u001b[0m\u001b[0;34m(\u001b[0m\u001b[0mx_test\u001b[0m\u001b[0;34m,\u001b[0m \u001b[0my_test\u001b[0m\u001b[0;34m,\u001b[0m \u001b[0mverbose\u001b[0m\u001b[0;34m=\u001b[0m\u001b[0;36m0\u001b[0m\u001b[0;34m)\u001b[0m\u001b[0;34m\u001b[0m\u001b[0;34m\u001b[0m\u001b[0m\n\u001b[0;32m---> 66\u001b[0;31m \u001b[0mhistories\u001b[0m\u001b[0;34m.\u001b[0m\u001b[0mappend\u001b[0m\u001b[0;34m(\u001b[0m\u001b[0mhistory\u001b[0m\u001b[0;34m)\u001b[0m\u001b[0;34m\u001b[0m\u001b[0;34m\u001b[0m\u001b[0m\n\u001b[0m\u001b[1;32m     67\u001b[0m \u001b[0mprint\u001b[0m\u001b[0;34m(\u001b[0m\u001b[0;34m'Test loss:'\u001b[0m\u001b[0;34m,\u001b[0m \u001b[0mscore\u001b[0m\u001b[0;34m[\u001b[0m\u001b[0;36m0\u001b[0m\u001b[0;34m]\u001b[0m\u001b[0;34m)\u001b[0m\u001b[0;34m\u001b[0m\u001b[0;34m\u001b[0m\u001b[0m\n\u001b[1;32m     68\u001b[0m \u001b[0mprint\u001b[0m\u001b[0;34m(\u001b[0m\u001b[0;34m'Test accuracy:'\u001b[0m\u001b[0;34m,\u001b[0m \u001b[0mscore\u001b[0m\u001b[0;34m[\u001b[0m\u001b[0;36m1\u001b[0m\u001b[0;34m]\u001b[0m\u001b[0;34m)\u001b[0m\u001b[0;34m\u001b[0m\u001b[0;34m\u001b[0m\u001b[0m\n",
            "\u001b[0;31mNameError\u001b[0m: name 'histories' is not defined"
          ]
        }
      ]
    },
    {
      "cell_type": "code",
      "metadata": {
        "id": "L5IgrG2b5pmc",
        "colab_type": "code",
        "colab": {
          "base_uri": "https://localhost:8080/",
          "height": 283
        },
        "outputId": "4748ae8b-f428-4416-dc18-90267784d5ee"
      },
      "source": [
        "#score = model_relu.evaluate(X_test, Y_test, verbose=0) \n",
        "#print('Test score:', score[0]) \n",
        "#print('Test accuracy:', score[1])\n",
        "\n",
        "fig,ax = plt.subplots(1,1)\n",
        "ax.set_xlabel('epoch') ; ax.set_ylabel('Categorical Crossentropy Loss')\n",
        "\n",
        "# list of epoch numbers\n",
        "x = list(range(1,epochs+1))\n",
        "#print(x)\n",
        "\n",
        "# print(history.history.keys())\n",
        "# dict_keys(['val_loss', 'val_acc', 'loss', 'acc'])\n",
        "# history = model_drop.fit(X_train, Y_train, batch_size=batch_size, epochs=nb_epoch, verbose=1, validation_data=(X_test, Y_test))\n",
        "\n",
        "# we will get val_loss and val_acc only when you pass the paramter validation_data\n",
        "# val_loss : validation loss\n",
        "# val_acc : validation accuracy\n",
        "\n",
        "# loss : training loss\n",
        "# acc : train accuracy\n",
        "# for each key in histrory.histrory we will have a list of length equal to number of epochs\n",
        "\n",
        "\n",
        "vy = history.history['val_loss']\n",
        "ty = history.history['loss']\n",
        "#print(ty)\n",
        "plt_dynamic(x, vy, ty, ax)"
      ],
      "execution_count": 3,
      "outputs": [
        {
          "output_type": "display_data",
          "data": {
            "image/png": "[encoded data removed]",
            "text/plain": [
              "<Figure size 432x288 with 1 Axes>"
            ]
          },
          "metadata": {
            "tags": []
          }
        }
      ]
    },
    {
      "cell_type": "code",
      "metadata": {
        "id": "z1MaEWmZ5Cbt",
        "colab_type": "code",
        "colab": {}
      },
      "source": [
        "%matplotlib inline\n",
        "import matplotlib.pyplot as plt\n",
        "import numpy as np\n",
        "import time\n",
        "# https://gist.github.com/greydanus/f6eee59eaf1d90fcb3b534a25362cea4\n",
        "# https://stackoverflow.com/a/14434334\n",
        "# this function is used to update the plots for each epoch and error\n",
        "def plt_dynamic(x, vy, ty, ax, colors=['b']):\n",
        "    ax.plot(x, vy, 'b', label=\"Validation Loss\")\n",
        "    ax.plot(x, ty, 'r', label=\"Train Loss\")\n",
        "    plt.legend()\n",
        "    plt.grid()\n",
        "    fig.canvas.draw()"
      ],
      "execution_count": 0,
      "outputs": []
    },
    {
      "cell_type": "code",
      "metadata": {
        "id": "AJfBetJhJ0Dy",
        "colab_type": "code",
        "outputId": "30b7133b-ac85-4a1c-f093-dcfbb5567fe0",
        "colab": {
          "base_uri": "https://localhost:8080/",
          "height": 109
        }
      },
      "source": [
        "# Credits: https://github.com/keras-team/keras/blob/master/examples/mnist_cnn.py\n",
        "\n",
        "\n",
        "from __future__ import print_function\n",
        "import keras\n",
        "from keras.datasets import mnist\n",
        "from keras.models import Sequential\n",
        "from keras.layers import Dense, Dropout, Flatten\n",
        "from keras.layers import Conv2D, MaxPooling2D\n",
        "from keras import backend as K\n",
        "\n",
        "batch_size = 128\n",
        "num_classes = 10\n",
        "epochs = 12\n",
        "# input image dimensions\n",
        "img_rows, img_cols = 28, 28\n",
        "\n",
        "# the data, split between train and test sets\n",
        "(x_train, y_train), (x_test, y_test) = mnist.load_data()\n",
        "\n",
        "if K.image_data_format() == 'channels_first':\n",
        "    x_train = x_train.reshape(x_train.shape[0], 1, img_rows, img_cols)\n",
        "    x_test = x_test.reshape(x_test.shape[0], 1, img_rows, img_cols)\n",
        "    input_shape = (1, img_rows, img_cols)\n",
        "else:\n",
        "    x_train = x_train.reshape(x_train.shape[0], img_cols, img_rows, 1)\n",
        "    x_test = x_test.reshape(x_test.shape[0], img_cols, img_rows, 1)\n",
        "    input_shape = (img_cols, img_rows, 1)\n",
        "\n",
        "x_train = x_train.astype('float32')\n",
        "x_test = x_test.astype('float32')\n",
        "x_train /= 255\n",
        "x_test /= 255\n",
        "print('x_train shape:', x_train.shape)\n",
        "print(x_train.shape[0], 'train samples')\n",
        "print(x_test.shape[0], 'test samples')\n",
        "\n",
        "# convert class vectors to binary class matrices\n",
        "y_train = keras.utils.to_categorical(y_train, 10)\n",
        "y_test = keras.utils.to_categorical(y_test, 10)"
      ],
      "execution_count": 2,
      "outputs": [
        {
          "output_type": "stream",
          "text": [
            "Downloading data from https://s3.amazonaws.com/img-datasets/mnist.npz\n",
            "11493376/11490434 [==============================] - 1s 0us/step\n",
            "x_train shape: (60000, 28, 28, 1)\n",
            "60000 train samples\n",
            "10000 test samples\n"
          ],
          "name": "stdout"
        }
      ]
    },
    {
      "cell_type": "markdown",
      "metadata": {
        "id": "JUVY_muiMy73",
        "colab_type": "text"
      },
      "source": [
        "# 3 layer CNN"
      ]
    },
    {
      "cell_type": "code",
      "metadata": {
        "id": "DgHEFCNY_xlG",
        "colab_type": "code",
        "outputId": "596719cb-09c0-4ac5-c55d-b19a1173ab66",
        "colab": {
          "base_uri": "https://localhost:8080/",
          "height": 799
        }
      },
      "source": [
        "#3 Convolution layer network with kernel size = (3,3)\n",
        "from keras.layers.normalization import BatchNormalization\n",
        "from keras.layers import Dense, Dropout, Activation, Flatten\n",
        "\n",
        "model = Sequential()\n",
        "model.add(Conv2D(32, (3, 3),input_shape=input_shape))\n",
        "model.add(BatchNormalization(axis=-1))\n",
        "model.add(Activation('relu'))\n",
        "model.add(Conv2D(32, (3, 3)))\n",
        "model.add(BatchNormalization(axis=-1))\n",
        "model.add(Activation('relu'))\n",
        "model.add(MaxPooling2D(pool_size=(2,2)))\n",
        "\n",
        "model.add(Conv2D(64,(3, 3)))\n",
        "model.add(BatchNormalization(axis=-1))\n",
        "model.add(Activation('relu'))\n",
        "model.add(MaxPooling2D(pool_size=(2,2)))\n",
        "\n",
        "model.add(Flatten())\n",
        "\n",
        "# Fully connected layer\n",
        "model.add(Dense(256))\n",
        "model.add(BatchNormalization())\n",
        "model.add(Activation('relu'))\n",
        "model.add(Dropout(0.2))\n",
        "model.add(Dense(num_classes, activation='softmax'))\n",
        "\n",
        "model.compile(loss=keras.losses.categorical_crossentropy,\n",
        "              optimizer=keras.optimizers.Adadelta(),\n",
        "              metrics=['accuracy'])\n",
        "\n",
        "\n",
        "history = model.fit(x_train, y_train,\n",
        "          batch_size=batch_size,\n",
        "          epochs=epochs,\n",
        "          verbose=1,\n",
        "          validation_data=(x_test, y_test))\n",
        "score = model.evaluate(x_test, y_test, verbose=0)\n",
        "fig,ax = plt.subplots(1,1)\n",
        "ax.set_xlabel('epoch') ; ax.set_ylabel('Categorical Crossentropy Loss')\n",
        "\n",
        "# list of epoch numbers\n",
        "x = list(range(1,epochs+1))\n",
        "#print(x)\n",
        "\n",
        "vy = history.history['val_loss']\n",
        "ty = history.history['loss']\n",
        "#print(ty)\n",
        "plt_dynamic(x, vy, ty, ax)"
      ],
      "execution_count": 4,
      "outputs": [
        {
          "output_type": "stream",
          "text": [
            "WARNING:tensorflow:From /usr/local/lib/python3.6/dist-packages/keras/backend/tensorflow_backend.py:2041: The name tf.nn.fused_batch_norm is deprecated. Please use tf.compat.v1.nn.fused_batch_norm instead.\n",
            "\n",
            "Train on 60000 samples, validate on 10000 samples\n",
            "Epoch 1/12\n",
            "60000/60000 [==============================] - 188s 3ms/step - loss: 0.0958 - acc: 0.9725 - val_loss: 0.0483 - val_acc: 0.9832\n",
            "Epoch 2/12\n",
            "60000/60000 [==============================] - 187s 3ms/step - loss: 0.0340 - acc: 0.9901 - val_loss: 0.0299 - val_acc: 0.9898\n",
            "Epoch 3/12\n",
            "60000/60000 [==============================] - 192s 3ms/step - loss: 0.0230 - acc: 0.9931 - val_loss: 0.0266 - val_acc: 0.9910\n",
            "Epoch 4/12\n",
            "60000/60000 [==============================] - 190s 3ms/step - loss: 0.0167 - acc: 0.9948 - val_loss: 0.0282 - val_acc: 0.9907\n",
            "Epoch 5/12\n",
            "60000/60000 [==============================] - 188s 3ms/step - loss: 0.0114 - acc: 0.9968 - val_loss: 0.0256 - val_acc: 0.9923\n",
            "Epoch 6/12\n",
            "60000/60000 [==============================] - 187s 3ms/step - loss: 0.0088 - acc: 0.9974 - val_loss: 0.0217 - val_acc: 0.9929\n",
            "Epoch 7/12\n",
            "60000/60000 [==============================] - 186s 3ms/step - loss: 0.0066 - acc: 0.9983 - val_loss: 0.0223 - val_acc: 0.9934\n",
            "Epoch 8/12\n",
            "60000/60000 [==============================] - 189s 3ms/step - loss: 0.0047 - acc: 0.9988 - val_loss: 0.0230 - val_acc: 0.9925\n",
            "Epoch 9/12\n",
            "60000/60000 [==============================] - 190s 3ms/step - loss: 0.0039 - acc: 0.9990 - val_loss: 0.0242 - val_acc: 0.9937\n",
            "Epoch 10/12\n",
            "60000/60000 [==============================] - 190s 3ms/step - loss: 0.0025 - acc: 0.9995 - val_loss: 0.0212 - val_acc: 0.9946\n",
            "Epoch 11/12\n",
            "60000/60000 [==============================] - 187s 3ms/step - loss: 0.0021 - acc: 0.9997 - val_loss: 0.0225 - val_acc: 0.9932\n",
            "Epoch 12/12\n",
            "60000/60000 [==============================] - 188s 3ms/step - loss: 0.0018 - acc: 0.9997 - val_loss: 0.0207 - val_acc: 0.9945\n"
          ],
          "name": "stdout"
        },
        {
          "output_type": "display_data",
          "data": {
            "image/png": "[encoded data removed]",
            "text/plain": [
              "<Figure size 432x288 with 1 Axes>"
            ]
          },
          "metadata": {
            "tags": []
          }
        }
      ]
    },
    {
      "cell_type": "markdown",
      "metadata": {
        "id": "v_HffyCrMveY",
        "colab_type": "text"
      },
      "source": [
        "# 5 Layer CNN "
      ]
    },
    {
      "cell_type": "code",
      "metadata": {
        "id": "7QYFd_7BMmWt",
        "colab_type": "code",
        "outputId": "b036d0f5-23ff-464b-f04a-6501914a74ea",
        "colab": {
          "base_uri": "https://localhost:8080/",
          "height": 779
        }
      },
      "source": [
        "model = Sequential()\n",
        "\n",
        "model.add(Conv2D(32, kernel_size=5, activation = 'relu'))\n",
        "model.add(Conv2D(32, kernel_size=5, activation = 'relu'))\n",
        "model.add(MaxPooling2D(2,2))\n",
        "model.add(BatchNormalization())\n",
        "model.add(Dropout(0.4))\n",
        "\n",
        "model.add(Conv2D(64, kernel_size=3,activation = 'relu'))\n",
        "model.add(Conv2D(64, kernel_size=3,activation = 'relu'))\n",
        "model.add(MaxPooling2D(2,2))\n",
        "model.add(BatchNormalization())\n",
        "model.add(Dropout(0.4))\n",
        "\n",
        "model.add(Conv2D(128, kernel_size=3, activation = 'relu'))\n",
        "model.add(BatchNormalization())\n",
        "\n",
        "model.add(Flatten())\n",
        "model.add(Dense(256, activation = \"relu\"))\n",
        "model.add(Dropout(0.4))\n",
        "model.add(Dense(128, activation = \"relu\"))\n",
        "model.add(Dropout(0.4))\n",
        "model.add(Dense(10, activation = \"softmax\"))\n",
        "\n",
        "\n",
        "model.compile(loss=keras.losses.categorical_crossentropy,\n",
        "              optimizer=keras.optimizers.Adadelta(),\n",
        "              metrics=['accuracy'])\n",
        "\n",
        "\n",
        "\n",
        "\n",
        "history = model.fit(x_train, y_train,\n",
        "          batch_size=batch_size,\n",
        "          epochs=epochs,\n",
        "          verbose=1,\n",
        "          validation_data=(x_test, y_test))\n",
        "score = model.evaluate(x_test, y_test, verbose=0)\n",
        "print('Test loss:', score[0])\n",
        "print('Test accuracy:', score[1])\n",
        "fig,ax = plt.subplots(1,1)\n",
        "ax.set_xlabel('epoch') ; ax.set_ylabel('Categorical Crossentropy Loss')\n",
        "\n",
        "# list of epoch numbers\n",
        "x = list(range(1,epochs+1))\n",
        "#print(x)\n",
        "\n",
        "vy = history.history['val_loss']\n",
        "ty = history.history['loss']\n",
        "#print(ty)\n",
        "plt_dynamic(x, vy, ty, ax)\n"
      ],
      "execution_count": 5,
      "outputs": [
        {
          "output_type": "stream",
          "text": [
            "Train on 60000 samples, validate on 10000 samples\n",
            "Epoch 1/12\n",
            "60000/60000 [==============================] - 192s 3ms/step - loss: 0.2834 - acc: 0.9137 - val_loss: 0.0682 - val_acc: 0.9813\n",
            "Epoch 2/12\n",
            "60000/60000 [==============================] - 188s 3ms/step - loss: 0.0946 - acc: 0.9738 - val_loss: 0.0464 - val_acc: 0.9882\n",
            "Epoch 3/12\n",
            "60000/60000 [==============================] - 186s 3ms/step - loss: 0.0752 - acc: 0.9789 - val_loss: 0.0490 - val_acc: 0.9870\n",
            "Epoch 4/12\n",
            "60000/60000 [==============================] - 188s 3ms/step - loss: 0.0621 - acc: 0.9830 - val_loss: 0.0338 - val_acc: 0.9903\n",
            "Epoch 5/12\n",
            "60000/60000 [==============================] - 190s 3ms/step - loss: 0.0535 - acc: 0.9856 - val_loss: 0.0267 - val_acc: 0.9917\n",
            "Epoch 6/12\n",
            "60000/60000 [==============================] - 191s 3ms/step - loss: 0.0456 - acc: 0.9877 - val_loss: 0.0245 - val_acc: 0.9928\n",
            "Epoch 7/12\n",
            "60000/60000 [==============================] - 190s 3ms/step - loss: 0.0411 - acc: 0.9885 - val_loss: 0.0269 - val_acc: 0.9920\n",
            "Epoch 8/12\n",
            "60000/60000 [==============================] - 188s 3ms/step - loss: 0.0404 - acc: 0.9892 - val_loss: 0.0213 - val_acc: 0.9940\n",
            "Epoch 9/12\n",
            "60000/60000 [==============================] - 189s 3ms/step - loss: 0.0376 - acc: 0.9891 - val_loss: 0.0253 - val_acc: 0.9933\n",
            "Epoch 10/12\n",
            "60000/60000 [==============================] - 186s 3ms/step - loss: 0.0335 - acc: 0.9907 - val_loss: 0.0206 - val_acc: 0.9944\n",
            "Epoch 11/12\n",
            "60000/60000 [==============================] - 188s 3ms/step - loss: 0.0314 - acc: 0.9917 - val_loss: 0.0220 - val_acc: 0.9941\n",
            "Epoch 12/12\n",
            "60000/60000 [==============================] - 187s 3ms/step - loss: 0.0333 - acc: 0.9908 - val_loss: 0.0197 - val_acc: 0.9948\n",
            "Test loss: 0.01965185289873134\n",
            "Test accuracy: 0.9948\n"
          ],
          "name": "stdout"
        },
        {
          "output_type": "display_data",
          "data": {
            "image/png": "[encoded data removed]",
            "text/plain": [
              "<Figure size 432x288 with 1 Axes>"
            ]
          },
          "metadata": {
            "tags": []
          }
        }
      ]
    },
    {
      "cell_type": "markdown",
      "metadata": {
        "id": "lX1qCv1LMpss",
        "colab_type": "text"
      },
      "source": [
        "# 7 Layer CNN "
      ]
    },
    {
      "cell_type": "code",
      "metadata": {
        "id": "jN2cWPm9louo",
        "colab_type": "code",
        "outputId": "f2b50b7b-4d11-4a9d-ae8b-b284e82fe6dc",
        "colab": {
          "base_uri": "https://localhost:8080/",
          "height": 779
        }
      },
      "source": [
        "from keras.layers.normalization import BatchNormalization\n",
        "from keras.layers import Dense, Dropout, Activation, Flatten\n",
        "model = Sequential()\n",
        "\n",
        "model.add(Conv2D(32, kernel_size=3, activation = 'relu'))\n",
        "model.add(Conv2D(32, kernel_size=3, activation = 'relu',padding='same'))\n",
        "\n",
        "model.add(Conv2D(32, kernel_size=3, activation = 'relu',padding='same'))\n",
        "model.add(MaxPooling2D(2,2))\n",
        "model.add(BatchNormalization())\n",
        "model.add(Dropout(0.4))\n",
        "\n",
        "model.add(Conv2D(64, kernel_size=3,activation = 'relu',padding='same'))\n",
        "\n",
        "\n",
        "model.add(Conv2D(64, kernel_size=3,activation = 'relu',padding='same'))\n",
        "model.add(MaxPooling2D(2,2))\n",
        "model.add(BatchNormalization())\n",
        "model.add(Dropout(0.4))\n",
        "\n",
        "model.add(Conv2D(64, kernel_size=3,activation = 'relu',padding='same'))\n",
        "model.add(MaxPooling2D(2,2))\n",
        "model.add(BatchNormalization())\n",
        "model.add(Dropout(0.4))\n",
        "\n",
        "\n",
        "model.add(Conv2D(128, kernel_size=3, activation = 'relu',padding='same'))\n",
        "model.add(BatchNormalization())\n",
        "\n",
        "\n",
        "model.add(Flatten())\n",
        "model.add(Dense(256, activation = \"relu\"))\n",
        "\n",
        "model.add(Dropout(0.4))\n",
        "model.add(Dense(128, activation = \"relu\"))\n",
        "\n",
        "model.add(Dropout(0.4))\n",
        "model.add(Dense(10, activation = \"softmax\"))\n",
        "\n",
        "\n",
        "\n",
        "model.compile(loss=keras.losses.categorical_crossentropy,\n",
        "              optimizer=keras.optimizers.Adadelta(),\n",
        "              metrics=['accuracy'])\n",
        "\n",
        "\n",
        "history = model.fit(x_train, y_train,\n",
        "          batch_size=batch_size,\n",
        "          epochs=epochs,\n",
        "          verbose=1,\n",
        "          validation_data=(x_test, y_test))\n",
        "score = model.evaluate(x_test, y_test, verbose=0)\n",
        "print('Test loss:', score[0])\n",
        "print('Test accuracy:', score[1])\n",
        "fig,ax = plt.subplots(1,1)\n",
        "ax.set_xlabel('epoch') ; ax.set_ylabel('Categorical Crossentropy Loss')\n",
        "\n",
        "# list of epoch numbers\n",
        "x = list(range(1,epochs+1))\n",
        "#print(x)\n",
        "\n",
        "vy = history.history['val_loss']\n",
        "ty = history.history['loss']\n",
        "#print(ty)\n",
        "plt_dynamic(x, vy, ty, ax)\n",
        "\n"
      ],
      "execution_count": 5,
      "outputs": [
        {
          "output_type": "stream",
          "text": [
            "Train on 60000 samples, validate on 10000 samples\n",
            "Epoch 1/12\n",
            "60000/60000 [==============================] - 332s 6ms/step - loss: 0.3652 - acc: 0.8895 - val_loss: 0.0601 - val_acc: 0.9824\n",
            "Epoch 2/12\n",
            "60000/60000 [==============================] - 330s 5ms/step - loss: 0.1199 - acc: 0.9676 - val_loss: 0.0453 - val_acc: 0.9880\n",
            "Epoch 3/12\n",
            "60000/60000 [==============================] - 333s 6ms/step - loss: 0.0888 - acc: 0.9768 - val_loss: 0.0548 - val_acc: 0.9842\n",
            "Epoch 4/12\n",
            "60000/60000 [==============================] - 333s 6ms/step - loss: 0.0716 - acc: 0.9809 - val_loss: 0.0579 - val_acc: 0.9867\n",
            "Epoch 5/12\n",
            "60000/60000 [==============================] - 331s 6ms/step - loss: 0.0599 - acc: 0.9838 - val_loss: 0.0373 - val_acc: 0.9907\n",
            "Epoch 6/12\n",
            "60000/60000 [==============================] - 331s 6ms/step - loss: 0.0556 - acc: 0.9853 - val_loss: 0.0342 - val_acc: 0.9907\n",
            "Epoch 7/12\n",
            "60000/60000 [==============================] - 333s 6ms/step - loss: 0.0506 - acc: 0.9863 - val_loss: 0.0257 - val_acc: 0.9931\n",
            "Epoch 8/12\n",
            "60000/60000 [==============================] - 334s 6ms/step - loss: 0.0489 - acc: 0.9869 - val_loss: 0.0278 - val_acc: 0.9932\n",
            "Epoch 9/12\n",
            "60000/60000 [==============================] - 330s 6ms/step - loss: 0.0459 - acc: 0.9887 - val_loss: 0.0269 - val_acc: 0.9927\n",
            "Epoch 10/12\n",
            "60000/60000 [==============================] - 317s 5ms/step - loss: 0.0422 - acc: 0.9892 - val_loss: 0.0253 - val_acc: 0.9942\n",
            "Epoch 11/12\n",
            "60000/60000 [==============================] - 314s 5ms/step - loss: 0.0417 - acc: 0.9894 - val_loss: 0.0249 - val_acc: 0.9935\n",
            "Epoch 12/12\n",
            "60000/60000 [==============================] - 313s 5ms/step - loss: 0.0374 - acc: 0.9901 - val_loss: 0.0206 - val_acc: 0.9944\n",
            "Test loss: 0.020643120348520644\n",
            "Test accuracy: 0.9944\n"
          ],
          "name": "stdout"
        },
        {
          "output_type": "display_data",
          "data": {
            "image/png": "[encoded data removed]",
            "text/plain": [
              "<Figure size 432x288 with 1 Axes>"
            ]
          },
          "metadata": {
            "tags": []
          }
        }
      ]
    },
    {
      "cell_type": "markdown",
      "metadata": {
        "id": "MJJ5vOzkMe_n",
        "colab_type": "text"
      },
      "source": [
        "# 3 Layer CNN with data augmentation"
      ]
    },
    {
      "cell_type": "code",
      "metadata": {
        "id": "bOFVWRAr-SB5",
        "colab_type": "code",
        "colab": {}
      },
      "source": [
        "from keras.preprocessing.image import ImageDataGenerator\n",
        "datagen = ImageDataGenerator(\n",
        "    featurewise_center=False,  # set input mean to 0 over the dataset\n",
        "    samplewise_center=False,  # set each sample mean to 0\n",
        "    featurewise_std_normalization=False,  # divide inputs by std of the dataset\n",
        "    samplewise_std_normalization=False,  # divide each input by its std\n",
        "    zca_whitening=False,  # apply ZCA whitening\n",
        "    rotation_range=25,  # randomly rotate images in the range (degrees, 0 to 180)\n",
        "    width_shift_range=0.1,  # randomly shift images horizontally (fraction of total width)\n",
        "    height_shift_range=0.1,  # randomly shift images vertically (fraction of total height)\n",
        "    horizontal_flip=False,  # randomly flip images\n",
        "    vertical_flip=False)  # randomly flip images\n",
        "\n",
        "datagen.fit(x_train)"
      ],
      "execution_count": 0,
      "outputs": []
    },
    {
      "cell_type": "code",
      "metadata": {
        "id": "rh0fyAVT-yyx",
        "colab_type": "code",
        "outputId": "5944f49f-e26e-433f-e8f1-465274462103",
        "colab": {
          "base_uri": "https://localhost:8080/",
          "height": 779
        }
      },
      "source": [
        "from keras.layers.normalization import BatchNormalization\n",
        "from keras.layers import Dense, Dropout, Activation, Flatten\n",
        "model = Sequential()\n",
        "model.add(Conv2D(32, (3, 3),input_shape=input_shape))\n",
        "model.add(BatchNormalization(axis=-1))\n",
        "model.add(Activation('relu'))\n",
        "model.add(Conv2D(32, (3, 3)))\n",
        "model.add(BatchNormalization(axis=-1))\n",
        "model.add(Activation('relu'))\n",
        "model.add(MaxPooling2D(pool_size=(2,2)))\n",
        "\n",
        "model.add(Conv2D(64,(3, 3)))\n",
        "model.add(BatchNormalization(axis=-1))\n",
        "model.add(Activation('relu'))\n",
        "model.add(MaxPooling2D(pool_size=(2,2)))\n",
        "\n",
        "model.add(Flatten())\n",
        "\n",
        "# Fully connected layer\n",
        "model.add(Dense(256))\n",
        "model.add(BatchNormalization())\n",
        "model.add(Activation('relu'))\n",
        "model.add(Dropout(0.2))\n",
        "model.add(Dense(num_classes, activation='softmax'))\n",
        "\n",
        "model.compile(loss=keras.losses.categorical_crossentropy,\n",
        "              optimizer=keras.optimizers.Adadelta(),\n",
        "              metrics=['accuracy'])\n",
        "\n",
        "history = model.fit(x_train, y_train,\n",
        "          batch_size=batch_size,\n",
        "          epochs=epochs,\n",
        "          verbose=1,\n",
        "          validation_data=(x_test, y_test))\n",
        "score = model.evaluate(x_test, y_test, verbose=0)\n",
        "print('Test loss:', score[0])\n",
        "print('Test accuracy:', score[1])\n",
        "fig,ax = plt.subplots(1,1)\n",
        "ax.set_xlabel('epoch') ; ax.set_ylabel('Categorical Crossentropy Loss')\n",
        "\n",
        "# list of epoch numbers\n",
        "x = list(range(1,epochs+1))\n",
        "#print(x)\n",
        "\n",
        "vy = history.history['val_loss']\n",
        "ty = history.history['loss']\n",
        "#print(ty)\n",
        "plt_dynamic(x, vy, ty, ax)"
      ],
      "execution_count": 7,
      "outputs": [
        {
          "output_type": "stream",
          "text": [
            "Train on 60000 samples, validate on 10000 samples\n",
            "Epoch 1/12\n",
            "60000/60000 [==============================] - 189s 3ms/step - loss: 0.0919 - acc: 0.9732 - val_loss: 0.0458 - val_acc: 0.9847\n",
            "Epoch 2/12\n",
            "60000/60000 [==============================] - 203s 3ms/step - loss: 0.0321 - acc: 0.9907 - val_loss: 0.0297 - val_acc: 0.9906\n",
            "Epoch 3/12\n",
            "60000/60000 [==============================] - 202s 3ms/step - loss: 0.0213 - acc: 0.9938 - val_loss: 0.0246 - val_acc: 0.9915\n",
            "Epoch 4/12\n",
            "60000/60000 [==============================] - 201s 3ms/step - loss: 0.0148 - acc: 0.9954 - val_loss: 0.0241 - val_acc: 0.9922\n",
            "Epoch 5/12\n",
            "60000/60000 [==============================] - 201s 3ms/step - loss: 0.0103 - acc: 0.9970 - val_loss: 0.0229 - val_acc: 0.9919\n",
            "Epoch 6/12\n",
            "60000/60000 [==============================] - 202s 3ms/step - loss: 0.0072 - acc: 0.9980 - val_loss: 0.0261 - val_acc: 0.9916\n",
            "Epoch 7/12\n",
            "60000/60000 [==============================] - 202s 3ms/step - loss: 0.0059 - acc: 0.9984 - val_loss: 0.0173 - val_acc: 0.9941\n",
            "Epoch 8/12\n",
            "60000/60000 [==============================] - 200s 3ms/step - loss: 0.0045 - acc: 0.9987 - val_loss: 0.0220 - val_acc: 0.9931\n",
            "Epoch 9/12\n",
            "60000/60000 [==============================] - 200s 3ms/step - loss: 0.0032 - acc: 0.9992 - val_loss: 0.0180 - val_acc: 0.9942\n",
            "Epoch 10/12\n",
            "60000/60000 [==============================] - 198s 3ms/step - loss: 0.0026 - acc: 0.9994 - val_loss: 0.0224 - val_acc: 0.9928\n",
            "Epoch 11/12\n",
            "60000/60000 [==============================] - 193s 3ms/step - loss: 0.0021 - acc: 0.9995 - val_loss: 0.0199 - val_acc: 0.9947\n",
            "Epoch 12/12\n",
            "60000/60000 [==============================] - 206s 3ms/step - loss: 0.0016 - acc: 0.9997 - val_loss: 0.0183 - val_acc: 0.9941\n",
            "Test loss: 0.018317274589365024\n",
            "Test accuracy: 0.9941\n"
          ],
          "name": "stdout"
        },
        {
          "output_type": "display_data",
          "data": {
            "image/png": "[encoded data removed]",
            "text/plain": [
              "<Figure size 432x288 with 1 Axes>"
            ]
          },
          "metadata": {
            "tags": []
          }
        }
      ]
    },
    {
      "cell_type": "code",
      "metadata": {
        "id": "LRYtcrX0_ZKN",
        "colab_type": "code",
        "outputId": "68586017-9a69-431f-eb7a-806d7dc71dc9",
        "colab": {
          "base_uri": "https://localhost:8080/",
          "height": 872
        }
      },
      "source": [
        "from keras.layers.normalization import BatchNormalization\n",
        "from keras.layers import Dense, Dropout, Activation, Flatten\n",
        "model = Sequential()\n",
        "model.add(Conv2D(32, kernel_size=(3, 3),\n",
        "                 activation='relu',\n",
        "                 input_shape=input_shape))\n",
        "model.add(Conv2D(64, (3, 3), activation='relu'))\n",
        "model.add(MaxPooling2D(pool_size=(2, 2)))\n",
        "model.add(Dropout(0.25))\n",
        "model.add(Flatten())\n",
        "model.add(Dense(128, activation='relu',init='glorot_normal'))\n",
        "model.add(Dropout(0.5))\n",
        "model.add(Dense(num_classes, activation='softmax',init='glorot_normal'))\n",
        "\n",
        "\n",
        "model.compile(loss=keras.losses.categorical_crossentropy,\n",
        "              optimizer=keras.optimizers.Adadelta(),\n",
        "              metrics=['accuracy'])\n",
        "\n",
        "history = model.fit(x_train, y_train,\n",
        "          batch_size=batch_size,\n",
        "          epochs=epochs,\n",
        "          verbose=1,\n",
        "          validation_data=(x_test, y_test))\n",
        "score = model.evaluate(x_test, y_test, verbose=0)\n",
        "print('Test loss:', score[0])\n",
        "print('Test accuracy:', score[1])\n",
        "fig,ax = plt.subplots(1,1)\n",
        "ax.set_xlabel('epoch') ; ax.set_ylabel('Categorical Crossentropy Loss')\n",
        "\n",
        "# list of epoch numbers\n",
        "x = list(range(1,epochs+1))\n",
        "#print(x)\n",
        "\n",
        "vy = history.history['val_loss']\n",
        "ty = history.history['loss']\n",
        "#print(ty)\n",
        "plt_dynamic(x, vy, ty, ax)\n",
        "\n",
        "#model.compile(loss='categorical_crossentropy', optimizer=RMSprop())\n",
        "#model.fit(X_train, Y_train, batch_size=32, nb_epoch=25,\n",
        "          #verbose=1, show_accuracy=True, validation_data=(X_test, Y_test))"
      ],
      "execution_count": 8,
      "outputs": [
        {
          "output_type": "stream",
          "text": [
            "/usr/local/lib/python3.6/dist-packages/ipykernel_launcher.py:11: UserWarning: Update your `Dense` call to the Keras 2 API: `Dense(128, activation=\"relu\", kernel_initializer=\"glorot_normal\")`\n",
            "  # This is added back by InteractiveShellApp.init_path()\n",
            "/usr/local/lib/python3.6/dist-packages/ipykernel_launcher.py:13: UserWarning: Update your `Dense` call to the Keras 2 API: `Dense(10, activation=\"softmax\", kernel_initializer=\"glorot_normal\")`\n",
            "  del sys.path[0]\n"
          ],
          "name": "stderr"
        },
        {
          "output_type": "stream",
          "text": [
            "Train on 60000 samples, validate on 10000 samples\n",
            "Epoch 1/12\n",
            "60000/60000 [==============================] - 136s 2ms/step - loss: 0.2667 - acc: 0.9176 - val_loss: 0.0624 - val_acc: 0.9804\n",
            "Epoch 2/12\n",
            "60000/60000 [==============================] - 134s 2ms/step - loss: 0.0876 - acc: 0.9741 - val_loss: 0.0396 - val_acc: 0.9869\n",
            "Epoch 3/12\n",
            "60000/60000 [==============================] - 135s 2ms/step - loss: 0.0662 - acc: 0.9797 - val_loss: 0.0339 - val_acc: 0.9886\n",
            "Epoch 4/12\n",
            "60000/60000 [==============================] - 134s 2ms/step - loss: 0.0544 - acc: 0.9837 - val_loss: 0.0327 - val_acc: 0.9891\n",
            "Epoch 5/12\n",
            "60000/60000 [==============================] - 135s 2ms/step - loss: 0.0464 - acc: 0.9857 - val_loss: 0.0323 - val_acc: 0.9888\n",
            "Epoch 6/12\n",
            "60000/60000 [==============================] - 138s 2ms/step - loss: 0.0422 - acc: 0.9873 - val_loss: 0.0291 - val_acc: 0.9903\n",
            "Epoch 7/12\n",
            "60000/60000 [==============================] - 134s 2ms/step - loss: 0.0376 - acc: 0.9887 - val_loss: 0.0289 - val_acc: 0.9911\n",
            "Epoch 8/12\n",
            "60000/60000 [==============================] - 133s 2ms/step - loss: 0.0347 - acc: 0.9892 - val_loss: 0.0289 - val_acc: 0.9906\n",
            "Epoch 9/12\n",
            "60000/60000 [==============================] - 131s 2ms/step - loss: 0.0333 - acc: 0.9900 - val_loss: 0.0300 - val_acc: 0.9900\n",
            "Epoch 10/12\n",
            "60000/60000 [==============================] - 132s 2ms/step - loss: 0.0303 - acc: 0.9911 - val_loss: 0.0266 - val_acc: 0.9911\n",
            "Epoch 11/12\n",
            "60000/60000 [==============================] - 132s 2ms/step - loss: 0.0291 - acc: 0.9909 - val_loss: 0.0281 - val_acc: 0.9908\n",
            "Epoch 12/12\n",
            "60000/60000 [==============================] - 135s 2ms/step - loss: 0.0265 - acc: 0.9915 - val_loss: 0.0288 - val_acc: 0.9922\n",
            "Test loss: 0.02883751948070858\n",
            "Test accuracy: 0.9922\n"
          ],
          "name": "stdout"
        },
        {
          "output_type": "display_data",
          "data": {
            "image/png": "[encoded data removed]",
            "text/plain": [
              "<Figure size 432x288 with 1 Axes>"
            ]
          },
          "metadata": {
            "tags": []
          }
        }
      ]
    },
    {
      "cell_type": "code",
      "metadata": {
        "id": "zcDnRruHAfRe",
        "colab_type": "code",
        "outputId": "3e11ceca-24cb-4b40-dba5-bd39a93bf021",
        "colab": {
          "base_uri": "https://localhost:8080/",
          "height": 201
        }
      },
      "source": [
        "from prettytable import PrettyTable\n",
        "    \n",
        "x = PrettyTable()\n",
        "\n",
        "x.field_names = [\"Model\", \"Test accuracy\"]\n",
        "\n",
        "x.add_row([\"Conv 2 Layer\",99.26])\n",
        "x.add_row([\"Conv 3 Layer\",99.45])\n",
        "x.add_row([\"Conv 5 Layer\",99.48])\n",
        "x.add_row([\"Conv 7 Layer\",99.44])\n",
        "x.add_row([\"Conv 3 Layer with (32,32,64) filters (data augmentation)\",99.41])\n",
        "x.add_row([\"Conv 3 Layer with (32,64,128) filters(data augmentation)\",99.2])\n",
        "\n",
        "\n",
        "print(x)"
      ],
      "execution_count": 9,
      "outputs": [
        {
          "output_type": "stream",
          "text": [
            "+----------------------------------------------------------+---------------+\n",
            "|                          Model                           | Test accuracy |\n",
            "+----------------------------------------------------------+---------------+\n",
            "|                       Conv 2 Layer                       |     99.26     |\n",
            "|                       Conv 3 Layer                       |     99.45     |\n",
            "|                       Conv 5 Layer                       |     99.48     |\n",
            "|                       Conv 7 Layer                       |     99.44     |\n",
            "| Conv 3 Layer with (32,32,64) filters (data augmentation) |     99.41     |\n",
            "| Conv 3 Layer with (32,64,128) filters(data augmentation) |      99.2     |\n",
            "+----------------------------------------------------------+---------------+\n"
          ],
          "name": "stdout"
        }
      ]
    },
    {
      "cell_type": "code",
      "metadata": {
        "id": "wQ3PeeXo0VEM",
        "colab_type": "code",
        "colab": {}
      },
      "source": [
        ""
      ],
      "execution_count": 0,
      "outputs": []
    },
    {
      "cell_type": "markdown",
      "metadata": {
        "id": "HT1rLdL0LfbX",
        "colab_type": "text"
      },
      "source": [
        "Observation:\n",
        "1. Various CNN architecture is implemented on MNIST dataset and the test accuracy has been calculated.\n",
        "2. Maximum accuracy achieved, using 5 convolution layer architecture is 99.5. From the error plot, it is found that the validation and train loss converges, when the model is trained for 12 epochs.\n",
        "3. The model performs well for data augmented x_train data with accuracy of 99.2.\n",
        "4. Based on the number of convolution filters, some of the architectures overfits.(3 Conv layer,Conv 3 Layer with (32,32,64) filters (data augmentation))"
      ]
    }
  ]
}